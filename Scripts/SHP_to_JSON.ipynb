{
 "cells": [
  {
   "cell_type": "code",
   "execution_count": null,
   "id": "78cdc80d-fc8f-4276-9888-8d1cd83815cb",
   "metadata": {},
   "outputs": [],
   "source": [
    "import geopandas as gpd\n",
    "import os\n",
    "\n",
    "def convert_shp_to_geojson(shp_folder, output_folder):\n",
    "    # List all shapefiles in the given folder\n",
    "    shp_files = [f for f in os.listdir(shp_folder) if f.endswith(\".shp\")]\n",
    "\n",
    "    # Iterate through each shapefile\n",
    "    for shp_file in shp_files:\n",
    "        # Construct the full path to the shapefile\n",
    "        shp_path = os.path.join(shp_folder, shp_file)\n",
    "\n",
    "        # Read the shapefile into a GeoDataFrame\n",
    "        gdf = gpd.read_file(shp_path)\n",
    "\n",
    "        # Construct the output GeoJSON file path\n",
    "        output_geojson_file = os.path.join(output_folder, f\"{os.path.splitext(shp_file)[0]}.geojson\")\n",
    "\n",
    "        # Write the GeoDataFrame to GeoJSON\n",
    "        gdf.to_file(output_geojson_file, driver='GeoJSON')\n",
    "\n",
    "        print(f\"Conversion successful: {shp_file} -> {output_geojson_file}\")\n",
    "\n",
    "# Example usage\n",
    "shp_folder = r\"C:\\shp\\folder\"\n",
    "output_folder = r\"C:\\JSON\\folder\"\n",
    "\n",
    "convert_shp_to_geojson(shp_folder, output_folder)\n"
   ]
  }
 ],
 "metadata": {
  "kernelspec": {
   "display_name": "Python 3 (ipykernel)",
   "language": "python",
   "name": "python3"
  },
  "language_info": {
   "codemirror_mode": {
    "name": "ipython",
    "version": 3
   },
   "file_extension": ".py",
   "mimetype": "text/x-python",
   "name": "python",
   "nbconvert_exporter": "python",
   "pygments_lexer": "ipython3",
   "version": "3.9.18"
  }
 },
 "nbformat": 4,
 "nbformat_minor": 5
}
