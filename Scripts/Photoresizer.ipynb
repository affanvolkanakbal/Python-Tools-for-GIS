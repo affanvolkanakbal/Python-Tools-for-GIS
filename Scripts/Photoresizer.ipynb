{
 "cells": [
  {
   "cell_type": "code",
   "execution_count": null,
   "id": "2fe9576e-07f6-4631-90ce-f0afda56ea53",
   "metadata": {},
   "outputs": [],
   "source": [
    "from PIL import Image\n",
    "import os\n",
    "\n",
    "def resize_images(folder_path, output_folder, width=600, height=600):\n",
    "    # Ensure the output folder exists\n",
    "    if not os.path.exists(output_folder):\n",
    "        os.makedirs(output_folder)\n",
    "\n",
    "    # Loop through all files in the folder\n",
    "    for filename in os.listdir(folder_path):\n",
    "        if filename.endswith(\".jpeg\") or filename.endswith(\".jpg\"):\n",
    "            # Open the image file\n",
    "            with Image.open(os.path.join(folder_path, filename)) as img:\n",
    "                # Resize the image\n",
    "                resized_img = img.resize((width, height))\n",
    "\n",
    "                # Save the resized image to the output folder\n",
    "                resized_img.save(os.path.join(output_folder, filename))\n",
    "\n",
    "if __name__ == \"__main__\":\n",
    "    # Specify the folder containing JPEG files\n",
    "    input_folder = r\"C:\\Your\\File\\Path\\\"\n",
    "\n",
    "    # Specify the folder where resized images will be saved\n",
    "    output_folder = r\"C:\\Your\\Output\\File\\Path\\\"\n",
    "\n",
    "    # Resize images\n",
    "    resize_images(input_folder, output_folder)\n"
   ]
  }
 ],
 "metadata": {
  "kernelspec": {
   "display_name": "Python 3 (ipykernel)",
   "language": "python",
   "name": "python3"
  },
  "language_info": {
   "codemirror_mode": {
    "name": "ipython",
    "version": 3
   },
   "file_extension": ".py",
   "mimetype": "text/x-python",
   "name": "python",
   "nbconvert_exporter": "python",
   "pygments_lexer": "ipython3",
   "version": "3.9.18"
  }
 },
 "nbformat": 4,
 "nbformat_minor": 5
}
