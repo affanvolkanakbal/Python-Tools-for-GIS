{
 "cells": [
  {
   "cell_type": "code",
   "execution_count": null,
   "id": "d981876c-48a3-4418-8c7a-0ec7065baf4a",
   "metadata": {},
   "outputs": [],
   "source": [
    "#FOR EVERY SINGLE FOLDERS\n",
    "import zipfile\n",
    "import os\n",
    "\n",
    "def zip_subfolders(parent_folder):\n",
    "    # Get a list of all the subfolders in the parent folder\n",
    "    subfolders = [f for f in os.listdir(parent_folder) if os.path.isdir(os.path.join(parent_folder, f))]\n",
    "\n",
    "    # Create a new zip file for each subfolder with the same name as the folder\n",
    "    for subfolder in subfolders:\n",
    "        zip_name = os.path.join(parent_folder, subfolder + '.zip')\n",
    "        with zipfile.ZipFile(zip_name, 'w') as zip_file:\n",
    "            # Add all the files in the subfolder to the zip file\n",
    "            for root, dirs, files in os.walk(os.path.join(parent_folder, subfolder)):\n",
    "                for file in files:\n",
    "                    file_path = os.path.join(root, file)\n",
    "                    zip_file.write(file_path, os.path.relpath(file_path, os.path.join(parent_folder, subfolder)))\n",
    "\n",
    "# Call the function with your parent folder path\n",
    "parent_folder_path = r'C:\\'\n",
    "zip_subfolders(parent_folder_path)"
   ]
  }
 ],
 "metadata": {
  "kernelspec": {
   "display_name": "Python 3 (ipykernel)",
   "language": "python",
   "name": "python3"
  },
  "language_info": {
   "codemirror_mode": {
    "name": "ipython",
    "version": 3
   },
   "file_extension": ".py",
   "mimetype": "text/x-python",
   "name": "python",
   "nbconvert_exporter": "python",
   "pygments_lexer": "ipython3",
   "version": "3.9.18"
  }
 },
 "nbformat": 4,
 "nbformat_minor": 5
}
