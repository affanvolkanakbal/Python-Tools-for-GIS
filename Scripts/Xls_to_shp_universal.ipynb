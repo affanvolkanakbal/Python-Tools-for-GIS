{
 "cells": [
  {
   "cell_type": "code",
   "execution_count": null,
   "id": "b7bb449c-fdee-4ce2-a4d6-a210ebd3fc22",
   "metadata": {},
   "outputs": [],
   "source": [
    "pip install pandas geopandas pyproj"
   ]
  },
  {
   "cell_type": "code",
   "execution_count": null,
   "id": "7cb3d05a-1c0a-402e-a58f-259ea11e0f34",
   "metadata": {},
   "outputs": [],
   "source": [
    "import os\n",
    "import pandas as pd\n",
    "import geopandas as gpd\n",
    "from shapely.geometry import Point\n",
    "from pyproj import Proj, transform\n",
    "\n",
    "def convert_xls_to_shp(input_folder, output_folder, source_epsg, target_epsg):\n",
    "    # Check if the output folder exists, if not, create it\n",
    "    if not os.path.exists(output_folder):\n",
    "        os.makedirs(output_folder)\n",
    "\n",
    "    # Iterate over each .xls file in the input folder\n",
    "    for filename in os.listdir(input_folder):\n",
    "        if filename.endswith(\".xls\"):\n",
    "            file_path = os.path.join(input_folder, filename)\n",
    "\n",
    "            # Read Excel file into a Pandas DataFrame\n",
    "            df = pd.read_excel(file_path)\n",
    "\n",
    "            # Create a GeoDataFrame with Point geometries\n",
    "            geometry = [Point(x, y) for x, y in zip(df['Easting'], df['Northing'])]\n",
    "            crs_source = {'init': f'epsg:{source_epsg}'}  # Source CRS\n",
    "            crs_target = {'init': f'epsg:{target_epsg}'}  # Target CRS\n",
    "            \n",
    "            gdf = gpd.GeoDataFrame(df, geometry=geometry, crs=crs_source)\n",
    "\n",
    "            # Perform coordinate transformation if needed\n",
    "            if source_epsg != target_epsg:\n",
    "                project = Proj(crs_target)\n",
    "                gdf['geometry'] = gdf['geometry'].to_crs(crs_target)\n",
    "\n",
    "            # Save GeoDataFrame to a Shapefile\n",
    "            output_file = os.path.join(output_folder, f\"{os.path.splitext(filename)[0]}.shp\")\n",
    "            gdf.to_file(output_file)\n",
    "\n",
    "            print(f\"Conversion completed: {output_file}\")\n",
    "\n",
    "# Prompt user for input and output folders\n",
    "input_folder = input(\"Enter the input folder path: \")\n",
    "output_folder = input(\"Enter the output folder path: \")\n",
    "source_epsg = input(\"Enter the source UTM Zone EPSG code: \")\n",
    "target_epsg = input(\"Enter the target UTM Zone EPSG code: \")\n",
    "\n",
    "convert_xls_to_shp(input_folder, output_folder, source_epsg, target_epsg)\n"
   ]
  }
 ],
 "metadata": {
  "kernelspec": {
   "display_name": "Python 3 (ipykernel)",
   "language": "python",
   "name": "python3"
  },
  "language_info": {
   "codemirror_mode": {
    "name": "ipython",
    "version": 3
   },
   "file_extension": ".py",
   "mimetype": "text/x-python",
   "name": "python",
   "nbconvert_exporter": "python",
   "pygments_lexer": "ipython3",
   "version": "3.9.18"
  }
 },
 "nbformat": 4,
 "nbformat_minor": 5
}
