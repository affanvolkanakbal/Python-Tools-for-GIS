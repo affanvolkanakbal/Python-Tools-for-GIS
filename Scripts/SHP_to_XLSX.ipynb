{
 "cells": [
  {
   "cell_type": "code",
   "execution_count": null,
   "id": "ec4fa078-822d-4874-9c0a-13ed5690cca7",
   "metadata": {},
   "outputs": [],
   "source": [
    "import geopandas as gpd\n",
    "import pandas as pd\n",
    "import os\n",
    "\n",
    "def convert_shp_to_xlsx(shp_folder, output_folder):\n",
    "    # List all shapefiles in the given folder\n",
    "    shp_files = [f for f in os.listdir(shp_folder) if f.endswith(\".shp\")]\n",
    "\n",
    "    # Iterate through each shapefile\n",
    "    for shp_file in shp_files:\n",
    "        # Construct the full path to the shapefile\n",
    "        shp_path = os.path.join(shp_folder, shp_file)\n",
    "\n",
    "        # Read the shapefile into a GeoDataFrame\n",
    "        gdf = gpd.read_file(shp_path)\n",
    "\n",
    "        # Construct the output Excel file path\n",
    "        output_xlsx_file = os.path.join(output_folder, f\"{os.path.splitext(shp_file)[0]}.xlsx\")\n",
    "\n",
    "        # Write the GeoDataFrame to Excel\n",
    "        gdf.to_excel(output_xlsx_file, index=False, engine='openpyxl')\n",
    "\n",
    "        print(f\"Conversion successful: {shp_file} -> {output_xlsx_file}\")\n",
    "\n",
    "# Example usage\n",
    "shp_folder = input(\"Enter the path to the input folder containing shapefiles: \")\n",
    "output_folder = input(\"Enter the path to the output folder: \")\n",
    "\n",
    "convert_shp_to_xlsx(shp_folder, output_folder)\n"
   ]
  },
  {
   "cell_type": "code",
   "execution_count": null,
   "id": "51865e51-1ab7-4318-bb96-796d78310174",
   "metadata": {},
   "outputs": [],
   "source": []
  }
 ],
 "metadata": {
  "kernelspec": {
   "display_name": "Python 3 (ipykernel)",
   "language": "python",
   "name": "python3"
  },
  "language_info": {
   "codemirror_mode": {
    "name": "ipython",
    "version": 3
   },
   "file_extension": ".py",
   "mimetype": "text/x-python",
   "name": "python",
   "nbconvert_exporter": "python",
   "pygments_lexer": "ipython3",
   "version": "3.9.18"
  }
 },
 "nbformat": 4,
 "nbformat_minor": 5
}
